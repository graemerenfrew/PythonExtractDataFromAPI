{
 "cells": [
  {
   "cell_type": "markdown",
   "metadata": {},
   "source": [
    "# Extract from an API"
   ]
  },
  {
   "cell_type": "markdown",
   "metadata": {},
   "source": [
    "### Use the Data.Gov data sources"
   ]
  },
  {
   "cell_type": "markdown",
   "metadata": {},
   "source": [
    "### https://catalog.data.gov/dataset/college-scorecard\n"
   ]
  },
  {
   "cell_type": "markdown",
   "metadata": {},
   "source": [
    "### Documentation: https://collegescorecard.ed.gov/data/documentation/\n"
   ]
  },
  {
   "cell_type": "code",
   "execution_count": 1,
   "metadata": {},
   "outputs": [],
   "source": [
    "# We need to import the requests library so we can call out to REST APIs\n",
    "import requests"
   ]
  },
  {
   "cell_type": "markdown",
   "metadata": {},
   "source": [
    "### basic usage"
   ]
  },
  {
   "cell_type": "code",
   "execution_count": 2,
   "metadata": {},
   "outputs": [],
   "source": [
    "# url for boston colleges scorecard"
   ]
  },
  {
   "cell_type": "code",
   "execution_count": 3,
   "metadata": {},
   "outputs": [
    {
     "name": "stdout",
     "output_type": "stream",
     "text": [
      "https://api.data.gov/ed/collegescorecard/v1/schools?school.name=boston%20college&api_key=CHVerHr5tAuhAPrzRYhxJv5eiycsyoFqUq3ZPErK\n"
     ]
    }
   ],
   "source": [
    "# my API key CHVerHr5tAuhAPrzRYhxJv5eiycsyoFqUq3ZPErK\n",
    "api_key = 'CHVerHr5tAuhAPrzRYhxJv5eiycsyoFqUq3ZPErK'\n",
    "url = 'https://api.data.gov/ed/collegescorecard/v1/schools?school.name=boston%20college&api_key=' + api_key\n",
    "print(url)"
   ]
  },
  {
   "cell_type": "code",
   "execution_count": 4,
   "metadata": {},
   "outputs": [],
   "source": [
    "#call the api using get, which returns an HTTP response object\n",
    "result = requests.get(url)"
   ]
  },
  {
   "cell_type": "code",
   "execution_count": 5,
   "metadata": {},
   "outputs": [
    {
     "data": {
      "text/plain": [
       "200"
      ]
     },
     "execution_count": 5,
     "metadata": {},
     "output_type": "execute_result"
    }
   ],
   "source": [
    "#what was the status of the request?\n",
    "result.status_code"
   ]
  },
  {
   "cell_type": "code",
   "execution_count": 6,
   "metadata": {},
   "outputs": [
    {
     "data": {
      "text/plain": [
       "{'Server': 'openresty', 'Date': 'Wed, 25 Jul 2018 09:04:16 GMT', 'Content-Type': 'application/json', 'Transfer-Encoding': 'chunked', 'Connection': 'keep-alive', 'Vary': 'Accept-Encoding, Accept-Encoding', 'X-RateLimit-Limit': '1000', 'X-RateLimit-Remaining': '999', 'Access-Control-Allow-Methods': 'GET', 'Access-Control-Allow-Origin': '*', 'X-Content-Type-Options': 'nosniff', 'X-Vcap-Request-Id': '647dd47f-07ed-440b-62c5-3bb64ff960cd', 'X-Frame-Options': 'DENY', 'Strict-Transport-Security': 'max-age=31536000, max-age=31536000; preload', 'X-XSS-Protection': '1; mode=block', 'Content-Encoding': 'gzip', 'Age': '1', 'Via': 'https/1.1 api-umbrella (ApacheTrafficServer [cMsSfW])', 'Cache-Control': 'public, max-age=300', 'X-Cache': 'MISS'}"
      ]
     },
     "execution_count": 6,
     "metadata": {},
     "output_type": "execute_result"
    }
   ],
   "source": [
    "#looks good.  Let's look at the data headers\n",
    "result.headers"
   ]
  },
  {
   "cell_type": "code",
   "execution_count": 7,
   "metadata": {},
   "outputs": [],
   "source": [
    "#nice - it returned some JSON data"
   ]
  },
  {
   "cell_type": "code",
   "execution_count": null,
   "metadata": {},
   "outputs": [],
   "source": []
  }
 ],
 "metadata": {
  "kernelspec": {
   "display_name": "Python 3",
   "language": "python",
   "name": "python3"
  },
  "language_info": {
   "codemirror_mode": {
    "name": "ipython",
    "version": 3
   },
   "file_extension": ".py",
   "mimetype": "text/x-python",
   "name": "python",
   "nbconvert_exporter": "python",
   "pygments_lexer": "ipython3",
   "version": "3.6.5"
  }
 },
 "nbformat": 4,
 "nbformat_minor": 2
}
